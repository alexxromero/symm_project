{
 "cells": [
  {
   "cell_type": "markdown",
   "metadata": {},
   "source": [
    "# Finding symmetries - Mexican hat"
   ]
  },
  {
   "cell_type": "code",
   "execution_count": 1,
   "metadata": {},
   "outputs": [
    {
     "name": "stderr",
     "output_type": "stream",
     "text": [
      "/home/alex/.virtualenvs/python3_ml/lib/python3.6/site-packages/tensorflow/python/framework/dtypes.py:516: FutureWarning: Passing (type, 1) or '1type' as a synonym of type is deprecated; in a future version of numpy, it will be understood as (type, (1,)) / '(1,)type'.\n",
      "  _np_qint8 = np.dtype([(\"qint8\", np.int8, 1)])\n",
      "/home/alex/.virtualenvs/python3_ml/lib/python3.6/site-packages/tensorflow/python/framework/dtypes.py:517: FutureWarning: Passing (type, 1) or '1type' as a synonym of type is deprecated; in a future version of numpy, it will be understood as (type, (1,)) / '(1,)type'.\n",
      "  _np_quint8 = np.dtype([(\"quint8\", np.uint8, 1)])\n",
      "/home/alex/.virtualenvs/python3_ml/lib/python3.6/site-packages/tensorflow/python/framework/dtypes.py:518: FutureWarning: Passing (type, 1) or '1type' as a synonym of type is deprecated; in a future version of numpy, it will be understood as (type, (1,)) / '(1,)type'.\n",
      "  _np_qint16 = np.dtype([(\"qint16\", np.int16, 1)])\n",
      "/home/alex/.virtualenvs/python3_ml/lib/python3.6/site-packages/tensorflow/python/framework/dtypes.py:519: FutureWarning: Passing (type, 1) or '1type' as a synonym of type is deprecated; in a future version of numpy, it will be understood as (type, (1,)) / '(1,)type'.\n",
      "  _np_quint16 = np.dtype([(\"quint16\", np.uint16, 1)])\n",
      "/home/alex/.virtualenvs/python3_ml/lib/python3.6/site-packages/tensorflow/python/framework/dtypes.py:520: FutureWarning: Passing (type, 1) or '1type' as a synonym of type is deprecated; in a future version of numpy, it will be understood as (type, (1,)) / '(1,)type'.\n",
      "  _np_qint32 = np.dtype([(\"qint32\", np.int32, 1)])\n",
      "/home/alex/.virtualenvs/python3_ml/lib/python3.6/site-packages/tensorflow/python/framework/dtypes.py:525: FutureWarning: Passing (type, 1) or '1type' as a synonym of type is deprecated; in a future version of numpy, it will be understood as (type, (1,)) / '(1,)type'.\n",
      "  np_resource = np.dtype([(\"resource\", np.ubyte, 1)])\n",
      "/home/alex/.virtualenvs/python3_ml/lib/python3.6/site-packages/tensorboard/compat/tensorflow_stub/dtypes.py:541: FutureWarning: Passing (type, 1) or '1type' as a synonym of type is deprecated; in a future version of numpy, it will be understood as (type, (1,)) / '(1,)type'.\n",
      "  _np_qint8 = np.dtype([(\"qint8\", np.int8, 1)])\n",
      "/home/alex/.virtualenvs/python3_ml/lib/python3.6/site-packages/tensorboard/compat/tensorflow_stub/dtypes.py:542: FutureWarning: Passing (type, 1) or '1type' as a synonym of type is deprecated; in a future version of numpy, it will be understood as (type, (1,)) / '(1,)type'.\n",
      "  _np_quint8 = np.dtype([(\"quint8\", np.uint8, 1)])\n",
      "/home/alex/.virtualenvs/python3_ml/lib/python3.6/site-packages/tensorboard/compat/tensorflow_stub/dtypes.py:543: FutureWarning: Passing (type, 1) or '1type' as a synonym of type is deprecated; in a future version of numpy, it will be understood as (type, (1,)) / '(1,)type'.\n",
      "  _np_qint16 = np.dtype([(\"qint16\", np.int16, 1)])\n",
      "/home/alex/.virtualenvs/python3_ml/lib/python3.6/site-packages/tensorboard/compat/tensorflow_stub/dtypes.py:544: FutureWarning: Passing (type, 1) or '1type' as a synonym of type is deprecated; in a future version of numpy, it will be understood as (type, (1,)) / '(1,)type'.\n",
      "  _np_quint16 = np.dtype([(\"quint16\", np.uint16, 1)])\n",
      "/home/alex/.virtualenvs/python3_ml/lib/python3.6/site-packages/tensorboard/compat/tensorflow_stub/dtypes.py:545: FutureWarning: Passing (type, 1) or '1type' as a synonym of type is deprecated; in a future version of numpy, it will be understood as (type, (1,)) / '(1,)type'.\n",
      "  _np_qint32 = np.dtype([(\"qint32\", np.int32, 1)])\n",
      "/home/alex/.virtualenvs/python3_ml/lib/python3.6/site-packages/tensorboard/compat/tensorflow_stub/dtypes.py:550: FutureWarning: Passing (type, 1) or '1type' as a synonym of type is deprecated; in a future version of numpy, it will be understood as (type, (1,)) / '(1,)type'.\n",
      "  np_resource = np.dtype([(\"resource\", np.ubyte, 1)])\n"
     ]
    }
   ],
   "source": [
    "import numpy as np\n",
    "#import torch\n",
    "#import torch.nn as nn\n",
    "import numpy as np\n",
    "#import torch.optim as optim\n",
    "#import torch.nn.functional as F\n",
    "#from torch.autograd import Variable\n",
    "import matplotlib.pyplot as plt\n",
    "%matplotlib inline\n",
    "\n",
    "import tensorflow"
   ]
  },
  {
   "cell_type": "markdown",
   "metadata": {},
   "source": [
    "1. Defining the potential. \n",
    "\n",
    "The paper doesn't tell us what they used as input to the DNN, but I'm assuming it's the coordinates (x, y) and they use the network to find the underlying potential. \n",
    "\n",
    "I think giving it the potential to classify the potential is too easy so (x, y) made more sense to me.  "
   ]
  },
  {
   "cell_type": "code",
   "execution_count": 2,
   "metadata": {},
   "outputs": [],
   "source": [
    "#def v(r):\n",
    "#    return -2.3 * r**2 + r**4\n",
    "\n",
    "def v(x, y):\n",
    "    a = 2.3\n",
    "    r2 = (x**2 + y**2) \n",
    "    return -a*r2 + r2**2"
   ]
  },
  {
   "cell_type": "code",
   "execution_count": 3,
   "metadata": {},
   "outputs": [
    {
     "data": {
      "image/png": "[encoded data removed]",
      "text/plain": [
       "<Figure size 432x288 with 1 Axes>"
      ]
     },
     "metadata": {
      "needs_background": "light"
     },
     "output_type": "display_data"
    }
   ],
   "source": [
    "# quick plot of the potential \n",
    "x_test = np.arange(0.,1.2,0.01)\n",
    "r_test = np.sqrt(x_test**2 + x_test**2)\n",
    "v_test = v(x_test, x_test)\n",
    "plt.plot(r_test, v_test)\n",
    "plt.show()"
   ]
  },
  {
   "cell_type": "markdown",
   "metadata": {},
   "source": [
    "2. Generate the samples. \n",
    "\n",
    "I made this in a way that involved less looping.\n",
    "Also, I wanted the points to be more separated, like in the paper, to have the final clusters more defined. \n",
    "\n",
    "To get samples that are \"continuous\" along the potential, remove v_stricter_bounds."
   ]
  },
  {
   "cell_type": "code",
   "execution_count": 4,
   "metadata": {},
   "outputs": [],
   "source": [
    "v_lower_bounds = np.array([i/5 - 10e-3 for i in range(-5, 6)])  # real bounds\n",
    "v_stricter_bounds = np.array([i/5 - 10e-4 for i in range(-5, 6)])  # stricter bounds\n",
    "bins = np.sort(np.concatenate((v_lower_bounds, v_stricter_bounds)))"
   ]
  },
  {
   "cell_type": "code",
   "execution_count": 5,
   "metadata": {},
   "outputs": [],
   "source": [
    "np.random.seed(123)\n",
    "\n",
    "n = 20000000  \n",
    "x1 = np.random.uniform(0, 1.2, n)  \n",
    "x2 = np.random.uniform(0, 1.2, n)\n",
    "V_rand = v(x1, x2)\n",
    "\n",
    "bin_labels = np.digitize(V_rand, bins=bins, right=False)"
   ]
  },
  {
   "cell_type": "code",
   "execution_count": 6,
   "metadata": {},
   "outputs": [],
   "source": [
    "# keep only the content of the odd bins \n",
    "nsamples_class = 1000\n",
    "nclasses = 11\n",
    "X = np.zeros((nsamples_class*nclasses, 2))\n",
    "Y = np.zeros((nsamples_class*nclasses), dtype=int)\n",
    "for i in range(11):\n",
    "    class_ix = np.where(bin_labels==(i*2+1))[0][:nsamples_class]\n",
    "    X[i*nsamples_class : (i+1)*nsamples_class, 0] = x1[class_ix]\n",
    "    X[i*nsamples_class : (i+1)*nsamples_class, 1] = x2[class_ix]\n",
    "    Y[i*nsamples_class : (i+1)*nsamples_class] = (bin_labels[class_ix]-1)/2"
   ]
  },
  {
   "cell_type": "code",
   "execution_count": 7,
   "metadata": {},
   "outputs": [
    {
     "data": {
      "image/png": "[encoded data removed]",
      "text/plain": [
       "<Figure size 432x288 with 1 Axes>"
      ]
     },
     "metadata": {
      "needs_background": "light"
     },
     "output_type": "display_data"
    },
    {
     "data": {
      "image/png": "[encoded data removed]",
      "text/plain": [
       "<Figure size 432x288 with 1 Axes>"
      ]
     },
     "metadata": {
      "needs_background": "light"
     },
     "output_type": "display_data"
    }
   ],
   "source": [
    "# quick check that the dataset is balanced...\n",
    "plt.hist(v(X[:, 0], X[:, 1]), v_lower_bounds)\n",
    "plt.show()\n",
    "\n",
    "# and that the points are uniform along the potential\n",
    "colors = ['forestgreen', 'lightgreen', 'lightskyblue', 'navy',\n",
    "          'lightcoral', 'maroon', 'plum', 'purple', 'gray',\n",
    "          'orange', 'deeppink']\n",
    "r = np.sqrt(X[:, 0]**2 + X[:, 1]**2)\n",
    "c_samples = [colors[i] for i in Y]\n",
    "plt.scatter(r, v(X[:, 0], X[:, 1]), c=c_samples)  \n",
    "plt.plot(r_test, v_test)\n",
    "plt.show()"
   ]
  },
  {
   "cell_type": "code",
   "execution_count": 8,
   "metadata": {},
   "outputs": [],
   "source": [
    "from tensorflow.keras.utils import to_categorical\n",
    "#from sklearn.model_selection import train_test_split"
   ]
  },
  {
   "cell_type": "code",
   "execution_count": 9,
   "metadata": {},
   "outputs": [],
   "source": [
    "Y = to_categorical(Y, num_classes=11)"
   ]
  },
  {
   "cell_type": "markdown",
   "metadata": {},
   "source": [
    "3. Train\n",
    "\n",
    "The paper says they stopped at 95% accuracy but I'm just gonna wing it. "
   ]
  },
  {
   "cell_type": "code",
   "execution_count": 10,
   "metadata": {},
   "outputs": [],
   "source": [
    "from tensorflow.keras.models import Sequential\n",
    "from tensorflow.keras.layers import Dense, Embedding\n",
    "import tensorflow.keras.backend as K \n",
    "from tensorflow.keras.optimizers import Adam"
   ]
  },
  {
   "cell_type": "code",
   "execution_count": 11,
   "metadata": {},
   "outputs": [
    {
     "name": "stdout",
     "output_type": "stream",
     "text": [
      "WARNING:tensorflow:From /home/alex/.virtualenvs/python3_ml/lib/python3.6/site-packages/tensorflow/python/ops/init_ops.py:1251: calling VarianceScaling.__init__ (from tensorflow.python.ops.init_ops) with dtype is deprecated and will be removed in a future version.\n",
      "Instructions for updating:\n",
      "Call initializer instance with the dtype argument instead of passing it to the constructor\n",
      "Model: \"sequential\"\n",
      "_________________________________________________________________\n",
      "Layer (type)                 Output Shape              Param #   \n",
      "=================================================================\n",
      "dense (Dense)                (None, 80)                240       \n",
      "_________________________________________________________________\n",
      "dense_1 (Dense)              (None, 80)                6480      \n",
      "_________________________________________________________________\n",
      "dense_2 (Dense)              (None, 80)                6480      \n",
      "_________________________________________________________________\n",
      "dense_3 (Dense)              (None, 80)                6480      \n",
      "_________________________________________________________________\n",
      "dense_4 (Dense)              (None, 80)                6480      \n",
      "_________________________________________________________________\n",
      "dense_5 (Dense)              (None, 80)                6480      \n",
      "_________________________________________________________________\n",
      "dense_6 (Dense)              (None, 80)                6480      \n",
      "_________________________________________________________________\n",
      "dense_7 (Dense)              (None, 11)                891       \n",
      "=================================================================\n",
      "Total params: 40,011\n",
      "Trainable params: 40,011\n",
      "Non-trainable params: 0\n",
      "_________________________________________________________________\n",
      "None\n"
     ]
    }
   ],
   "source": [
    "model = Sequential()\n",
    "model.add(Dense(80, 'relu', input_dim=2))\n",
    "model.add(Dense(80, 'relu'))\n",
    "model.add(Dense(80, 'relu'))\n",
    "model.add(Dense(80, 'relu'))\n",
    "model.add(Dense(80, 'relu'))\n",
    "model.add(Dense(80, 'relu'))\n",
    "model.add(Dense(80, 'relu'))\n",
    "model.add(Dense(11, 'softmax'))\n",
    "opt = Adam(lr=0.0001)\n",
    "model.compile(opt, 'categorical_crossentropy', metrics=['acc'])\n",
    "print(model.summary())"
   ]
  },
  {
   "cell_type": "code",
   "execution_count": 12,
   "metadata": {},
   "outputs": [
    {
     "name": "stdout",
     "output_type": "stream",
     "text": [
      "Epoch 1/12\n",
      "11000/11000 [==============================] - 1s 111us/sample - loss: 2.1114 - acc: 0.2403\n",
      "Epoch 2/12\n",
      "11000/11000 [==============================] - 2s 185us/sample - loss: 1.3468 - acc: 0.5050\n",
      "Epoch 3/12\n",
      "11000/11000 [==============================] - 2s 185us/sample - loss: 1.0003 - acc: 0.6529\n",
      "Epoch 4/12\n",
      "11000/11000 [==============================] - 2s 196us/sample - loss: 0.7424 - acc: 0.7449\n",
      "Epoch 5/12\n",
      "11000/11000 [==============================] - 2s 174us/sample - loss: 0.5773 - acc: 0.8259\n",
      "Epoch 6/12\n",
      "11000/11000 [==============================] - 1s 117us/sample - loss: 0.4450 - acc: 0.9233\n",
      "Epoch 7/12\n",
      "11000/11000 [==============================] - 2s 145us/sample - loss: 0.3285 - acc: 0.9620\n",
      "Epoch 8/12\n",
      "11000/11000 [==============================] - 2s 146us/sample - loss: 0.2394 - acc: 0.9739\n",
      "Epoch 9/12\n",
      "11000/11000 [==============================] - 2s 176us/sample - loss: 0.1748 - acc: 0.9825\n",
      "Epoch 10/12\n",
      "11000/11000 [==============================] - 1s 128us/sample - loss: 0.1204 - acc: 0.9927\n",
      "Epoch 11/12\n",
      "11000/11000 [==============================] - 2s 184us/sample - loss: 0.0851 - acc: 0.9964\n",
      "Epoch 12/12\n",
      "11000/11000 [==============================] - 2s 149us/sample - loss: 0.0623 - acc: 0.9975\n"
     ]
    },
    {
     "data": {
      "text/plain": [
       "<tensorflow.python.keras.callbacks.History at 0x7fe0fecfeba8>"
      ]
     },
     "execution_count": 12,
     "metadata": {},
     "output_type": "execute_result"
    }
   ],
   "source": [
    "model.fit(X, Y, \n",
    "          batch_size=28, epochs=12)"
   ]
  },
  {
   "cell_type": "code",
   "execution_count": 13,
   "metadata": {},
   "outputs": [],
   "source": [
    "embed_layer=-2\n",
    "embed_func = K.function([model.layers[0].input], [model.layers[-2].output])\n",
    "embed_tensor = embed_func(X)[0]"
   ]
  },
  {
   "cell_type": "code",
   "execution_count": 14,
   "metadata": {},
   "outputs": [],
   "source": [
    "from sklearn.manifold import TSNE"
   ]
  },
  {
   "cell_type": "code",
   "execution_count": 15,
   "metadata": {},
   "outputs": [],
   "source": [
    "xy_embed = TSNE(n_components=2, init='random', \n",
    "                random_state=123, perplexity=50)\n",
    "\n",
    "embedding = xy_embed.fit_transform(embed_tensor)"
   ]
  },
  {
   "cell_type": "code",
   "execution_count": 16,
   "metadata": {},
   "outputs": [],
   "source": [
    "train_colors = [colors[int(i)] for i in np.argmax(Y, axis=1)]"
   ]
  },
  {
   "cell_type": "code",
   "execution_count": 17,
   "metadata": {},
   "outputs": [
    {
     "data": {
      "text/plain": [
       "<matplotlib.collections.PathCollection at 0x7fe0dc0f27f0>"
      ]
     },
     "execution_count": 17,
     "metadata": {},
     "output_type": "execute_result"
    },
    {
     "data": {
      "image/png": "[encoded data removed]",
      "text/plain": [
       "<Figure size 432x288 with 1 Axes>"
      ]
     },
     "metadata": {
      "needs_background": "light"
     },
     "output_type": "display_data"
    }
   ],
   "source": [
    "plt.scatter(embedding[:, 0], embedding[:, 1], c=train_colors)"
   ]
  },
  {
   "cell_type": "code",
   "execution_count": 18,
   "metadata": {},
   "outputs": [
    {
     "data": {
      "image/png": "[encoded data removed]",
      "text/plain": [
       "<Figure size 432x288 with 1 Axes>"
      ]
     },
     "metadata": {
      "needs_background": "light"
     },
     "output_type": "display_data"
    }
   ],
   "source": [
    "# plotting again for reference\n",
    "plt.scatter(r, v(X[:, 0], X[:, 1]), c=c_samples)  \n",
    "plt.plot(r_test, v_test)\n",
    "plt.show()"
   ]
  },
  {
   "cell_type": "code",
   "execution_count": null,
   "metadata": {},
   "outputs": [],
   "source": []
  }
 ],
 "metadata": {
  "kernelspec": {
   "display_name": "Python 3",
   "language": "python",
   "name": "python3"
  },
  "language_info": {
   "codemirror_mode": {
    "name": "ipython",
    "version": 3
   },
   "file_extension": ".py",
   "mimetype": "text/x-python",
   "name": "python",
   "nbconvert_exporter": "python",
   "pygments_lexer": "ipython3",
   "version": "3.6.8"
  }
 },
 "nbformat": 4,
 "nbformat_minor": 2
}
